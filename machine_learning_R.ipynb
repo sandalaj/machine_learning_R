{
 "cells": [
  {
   "cell_type": "markdown",
   "id": "isolated-competition",
   "metadata": {},
   "source": [
    "### Install packages"
   ]
  },
  {
   "cell_type": "code",
   "execution_count": 1,
   "id": "front-catholic",
   "metadata": {},
   "outputs": [
    {
     "name": "stderr",
     "output_type": "stream",
     "text": [
      "Warning message in install.packages(c(\"e1071\", \"kernlab\", \"randomForest\")):\n",
      "“installation of package ‘kernlab’ had non-zero exit status”\n",
      "Updating HTML index of packages in '.Library'\n",
      "\n",
      "Making 'packages.html' ...\n",
      " done\n",
      "\n"
     ]
    },
    {
     "ename": "ERROR",
     "evalue": "Error in library(\"kernlab\"): there is no package called ‘kernlab’\n",
     "output_type": "error",
     "traceback": [
      "Error in library(\"kernlab\"): there is no package called ‘kernlab’\nTraceback:\n",
      "1. library(\"kernlab\")"
     ]
    }
   ],
   "source": [
    "install.packages(c(\"e1071\", \"kernlab\", \"randomForest\"))\n",
    "library(\"e1071\")\n",
    "library(\"kernlab\")\n",
    "library(\"caret\")\n",
    "library(\"ellipse\")"
   ]
  },
  {
   "cell_type": "markdown",
   "id": "manufactured-edition",
   "metadata": {},
   "source": [
    "### Load iris dataset"
   ]
  },
  {
   "cell_type": "code",
   "execution_count": null,
   "id": "passing-yeast",
   "metadata": {},
   "outputs": [],
   "source": [
    "# attach the iris dataset to the environment\n",
    "data(iris)\n",
    "# rename the dataset\n",
    "dataset <- iris"
   ]
  },
  {
   "cell_type": "markdown",
   "id": "requested-commander",
   "metadata": {},
   "source": [
    "### Create a validation datastet"
   ]
  },
  {
   "cell_type": "code",
   "execution_count": null,
   "id": "determined-resolution",
   "metadata": {},
   "outputs": [],
   "source": [
    "# create a list of 80% of the rows in the original dataset we can use for training\n",
    "validation_index <- createDataPartition(dataset$Species, p=0.80, list=FALSE)\n",
    "# select 20% of the data for validation\n",
    "validation <- dataset[-validation_index,]\n",
    "# use the remaining 80% of data to training and testing the models\n",
    "dataset <- dataset[validation_index,]"
   ]
  },
  {
   "cell_type": "markdown",
   "id": "automatic-daughter",
   "metadata": {},
   "source": [
    "### Look at characteristics of data"
   ]
  },
  {
   "cell_type": "code",
   "execution_count": null,
   "id": "constant-respondent",
   "metadata": {},
   "outputs": [],
   "source": [
    "# dimensions of dataset\n",
    "dim(dataset)"
   ]
  },
  {
   "cell_type": "code",
   "execution_count": null,
   "id": "hazardous-surgery",
   "metadata": {},
   "outputs": [],
   "source": [
    "# list types for each attribute\n",
    "sapply(dataset, class)"
   ]
  },
  {
   "cell_type": "code",
   "execution_count": null,
   "id": "american-coach",
   "metadata": {},
   "outputs": [],
   "source": [
    "# take a peek at the first 5 rows of the data\n",
    "head(dataset)"
   ]
  },
  {
   "cell_type": "code",
   "execution_count": null,
   "id": "stuffed-beach",
   "metadata": {},
   "outputs": [],
   "source": [
    "# list the levels for the class\n",
    "levels(dataset$Species)"
   ]
  },
  {
   "cell_type": "code",
   "execution_count": null,
   "id": "focused-completion",
   "metadata": {},
   "outputs": [],
   "source": [
    "# summarize the class distribution\n",
    "percentage <- prop.table(table(dataset$Species)) * 100\n",
    "cbind(freq=table(dataset$Species), percentage=percentage)"
   ]
  },
  {
   "cell_type": "code",
   "execution_count": null,
   "id": "agricultural-southwest",
   "metadata": {},
   "outputs": [],
   "source": [
    "# summarize attribute distributions\n",
    "summary(dataset)"
   ]
  },
  {
   "cell_type": "markdown",
   "id": "wireless-grill",
   "metadata": {},
   "source": [
    "### Visualize Dataset"
   ]
  },
  {
   "cell_type": "markdown",
   "id": "apart-kingdom",
   "metadata": {},
   "source": [
    "#### Univariate Plots"
   ]
  },
  {
   "cell_type": "code",
   "execution_count": null,
   "id": "mediterranean-inquiry",
   "metadata": {},
   "outputs": [],
   "source": [
    "# split input and output\n",
    "x <- dataset[,1:4]\n",
    "y <- dataset[,5]"
   ]
  },
  {
   "cell_type": "code",
   "execution_count": null,
   "id": "marine-spice",
   "metadata": {},
   "outputs": [],
   "source": [
    "# boxplot for each attribute on one image\n",
    "par(mfrow=c(1,4))\n",
    "  for(i in 1:4) {\n",
    "  boxplot(x[,i], main=names(iris)[i])\n",
    "}"
   ]
  },
  {
   "cell_type": "code",
   "execution_count": null,
   "id": "departmental-ballet",
   "metadata": {},
   "outputs": [],
   "source": [
    "# barplot for class breakdown\n",
    "plot(y)"
   ]
  },
  {
   "cell_type": "markdown",
   "id": "amateur-sterling",
   "metadata": {},
   "source": [
    "#### Multivariate Plots"
   ]
  },
  {
   "cell_type": "code",
   "execution_count": null,
   "id": "fleet-muscle",
   "metadata": {},
   "outputs": [],
   "source": [
    "# scatterplot matrix\n",
    "featurePlot(x=x, y=y, plot=\"ellipse\")"
   ]
  },
  {
   "cell_type": "code",
   "execution_count": null,
   "id": "dramatic-harbor",
   "metadata": {},
   "outputs": [],
   "source": [
    "# box and whisker plots for each attribute\n",
    "featurePlot(x=x, y=y, plot=\"box\")"
   ]
  },
  {
   "cell_type": "code",
   "execution_count": null,
   "id": "hispanic-monitor",
   "metadata": {},
   "outputs": [],
   "source": [
    "# density plots for each attribute by class value\n",
    "scales <- list(x=list(relation=\"free\"), y=list(relation=\"free\"))\n",
    "featurePlot(x=x, y=y, plot=\"density\", scales=scales)"
   ]
  },
  {
   "cell_type": "markdown",
   "id": "muslim-failure",
   "metadata": {},
   "source": [
    "### Evaluating Algorithms"
   ]
  },
  {
   "cell_type": "markdown",
   "id": "honey-reputation",
   "metadata": {},
   "source": [
    "#### Test harness"
   ]
  },
  {
   "cell_type": "code",
   "execution_count": null,
   "id": "retained-festival",
   "metadata": {},
   "outputs": [],
   "source": [
    "# Run algorithms using 10-fold cross validation\n",
    "control <- trainControl(method=\"cv\", number=10)\n",
    "metric <- \"Accuracy\""
   ]
  },
  {
   "cell_type": "markdown",
   "id": "vulnerable-bonus",
   "metadata": {},
   "source": [
    "#### Build models and evaluate each"
   ]
  },
  {
   "cell_type": "code",
   "execution_count": null,
   "id": "magnetic-craft",
   "metadata": {},
   "outputs": [],
   "source": [
    "# a) linear algorithms\n",
    "set.seed(7)\n",
    "fit.lda <- train(Species~., data=dataset, method=\"lda\", metric=metric, trControl=control)\n",
    "# b) nonlinear algorithms\n",
    "# CART\n",
    "set.seed(7)\n",
    "fit.cart <- train(Species~., data=dataset, method=\"rpart\", metric=metric, trControl=control)\n",
    "# kNN\n",
    "set.seed(7)\n",
    "fit.knn <- train(Species~., data=dataset, method=\"knn\", metric=metric, trControl=control)\n",
    "# c) advanced algorithms\n",
    "# SVM\n",
    "set.seed(7)\n",
    "fit.svm <- train(Species~., data=dataset, method=\"svmRadial\", metric=metric, trControl=control)\n",
    "# Random Forest\n",
    "set.seed(7)\n",
    "fit.rf <- train(Species~., data=dataset, method=\"rf\", metric=metric, trControl=control)"
   ]
  },
  {
   "cell_type": "code",
   "execution_count": null,
   "id": "guilty-death",
   "metadata": {},
   "outputs": [],
   "source": []
  }
 ],
 "metadata": {
  "kernelspec": {
   "display_name": "R",
   "language": "R",
   "name": "ir"
  },
  "language_info": {
   "codemirror_mode": "r",
   "file_extension": ".r",
   "mimetype": "text/x-r-source",
   "name": "R",
   "pygments_lexer": "r",
   "version": "4.0.1"
  }
 },
 "nbformat": 4,
 "nbformat_minor": 5
}
